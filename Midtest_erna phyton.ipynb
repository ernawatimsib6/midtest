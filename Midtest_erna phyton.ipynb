{
  "cells": [
    {
      "cell_type": "markdown",
      "metadata": {
        "id": "eKkzctKsnHio"
      },
      "source": [
        "Jawban:\n"
      ]
    },
    {
      "cell_type": "code",
      "execution_count": 15,
      "metadata": {
        "colab": {
          "base_uri": "https://localhost:8080/"
        },
        "id": "f50nO4JwqC68",
        "outputId": "ecca36fc-1f86-4875-df33-22b77eebcf4f"
      },
      "outputs": [
        {
          "name": "stdout",
          "output_type": "stream",
          "text": [
            "The third winner: Andi, Fanya\n"
          ]
        }
      ],
      "source": [
        "def third_place(names, scores):\n",
        "    score_dict = {}\n",
        "    for name, score in zip(names, scores):\n",
        "        if score in score_dict:\n",
        "            score_dict[score].append(name)\n",
        "        else:\n",
        "            score_dict[score] = [name]\n",
        "\n",
        "    sorted_scores = sorted(score_dict.keys(), reverse=True)\n",
        "    third_best_score = sorted_scores[2]\n",
        "    third_place_names = score_dict[third_best_score]\n",
        "\n",
        "    if len(third_place_names) == 1:\n",
        "        return f\"The third winner: {third_place_names[0]}\"\n",
        "    else:\n",
        "        return f\"The third winner: {', '.join(third_place_names)}\"\n",
        "\n",
        "names = [\"Andi\", \"Budi\", \"Charlie\", \"Dilan\", \"Echa\", \"Fanya\"]\n",
        "scores = [80, 90, 90, 100, 100, 80]\n",
        "print(third_place(names, scores))"
      ]
    },
    {
      "cell_type": "markdown",
      "metadata": {
        "id": "agpbQofvqwJJ"
      },
      "source": [
        "**Python 2 : Find Distance Between Two Coordinates**"
      ]
    },
    {
      "cell_type": "markdown",
      "metadata": {
        "id": "Y6HTuKV5q2pT"
      },
      "source": []
    },
    {
      "cell_type": "markdown",
      "metadata": {
        "id": "nB8MXSJkrBlh"
      },
      "source": [
        "Jawaban:"
      ]
    },
    {
      "cell_type": "code",
      "execution_count": 28,
      "metadata": {
        "colab": {
          "base_uri": "https://localhost:8080/"
        },
        "id": "kXcNFj0F9YfB",
        "outputId": "59cb4a77-7cf3-4a9f-f59a-361001903490"
      },
      "outputs": [
        {
          "name": "stdout",
          "output_type": "stream",
          "text": [
            "The distance is 5.0\n",
            "The distance is 4.242640687119285\n"
          ]
        }
      ],
      "source": [
        "import math\n",
        "\n",
        "def distance(point1, point2):\n",
        "\n",
        "    dist = math.sqrt((point1[0] - point2[0])**2 + (point1[1] - point2[1])**2)\n",
        "    return f\"The distance is {dist}\"\n",
        "\n",
        "point_1 = [5, 5]\n",
        "point_2 = [1, 2]\n",
        "print(distance(point_1, point_2))\n",
        "\n",
        "point_1 = [0, -1]\n",
        "point_2 = [-3, 2]\n",
        "print(distance(point_1, point_2))"
      ]
    }
  ],
  "metadata": {
    "colab": {
      "history_visible": true,
      "provenance": []
    },
    "kernelspec": {
      "display_name": "Python 3",
      "name": "python3"
    },
    "language_info": {
      "name": "python"
    }
  },
  "nbformat": 4,
  "nbformat_minor": 0
}
